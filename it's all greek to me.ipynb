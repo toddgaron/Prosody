{
 "cells": [
  {
   "cell_type": "code",
   "execution_count": 190,
   "metadata": {
    "collapsed": false
   },
   "outputs": [],
   "source": [
    "from requests import get\n",
    "from lxml import html\n",
    "from greek_accentuation.syllabify import *\n",
    "from greek_accentuation.characters import *\n",
    "from bs4 import BeautifulSoup"
   ]
  },
  {
   "cell_type": "code",
   "execution_count": 134,
   "metadata": {
    "collapsed": false
   },
   "outputs": [
    {
     "data": {
      "text/plain": [
       "[['Ε', 'ἲς'],\n",
       " ['Δι', 'ώ', 'νυ', 'σον'],\n",
       " ['οἳ'],\n",
       " ['μὲν'],\n",
       " ['γὰρ'],\n",
       " ['Δρα', 'κά', 'νῳ'],\n",
       " ['σ᾽'],\n",
       " ['οἳ'],\n",
       " ['δ᾽'],\n",
       " ['Ἰ', 'κά', 'ρῳ'],\n",
       " ['ἠ', 'νε', 'μο', 'έσ', 'σῃ'],\n",
       " ['φάσ᾽'],\n",
       " ['οἳ'],\n",
       " ['δ᾽'],\n",
       " ['ἐν'],\n",
       " ['Νά', 'ξῳ'],\n",
       " ['δῖ', 'ον'],\n",
       " ['γέ', 'νος'],\n",
       " ['εἰ', 'ρα', 'φι', 'ῶ', 'τα'],\n",
       " ['οἳ'],\n",
       " ['δέ'],\n",
       " ['σ᾽'],\n",
       " ['ἐπ᾽'],\n",
       " ['Ἀλ', 'φει', 'ῷ'],\n",
       " ['πο', 'τα', 'μῷ'],\n",
       " ['βα', 'θυ', 'δι', 'νή', 'εν', 'τι'],\n",
       " ['κυ', 'σα', 'μέ', 'νην'],\n",
       " ['Σε', 'μέ', 'λην'],\n",
       " ['τε', 'κέ', 'ειν'],\n",
       " ['Δι', 'ὶ'],\n",
       " ['τερ', 'πι', 'κε', 'ραύ', 'νῳ'],\n",
       " ['ἄλ', 'λοι'],\n",
       " ['δ᾽'],\n",
       " ['ἐν'],\n",
       " ['Θή', 'βῃ', 'σιν'],\n",
       " ['ἄ', 'ναξ'],\n",
       " ['σε'],\n",
       " ['λέ', 'γου', 'σι'],\n",
       " ['γε', 'νέ', 'σθαι'],\n",
       " ['ψευ', 'δό', 'με', 'νοι'],\n",
       " ['σὲ'],\n",
       " ['δ᾽'],\n",
       " ['ἔ', 'τι', 'κτε'],\n",
       " ['πα', 'τὴρ'],\n",
       " ['ἀν', 'δρῶν'],\n",
       " ['τε'],\n",
       " ['θε', 'ῶν'],\n",
       " ['τε'],\n",
       " ['πολ', 'λὸν'],\n",
       " ['ἀπ᾽'],\n",
       " ['ἀν', 'θρώ', 'πων'],\n",
       " ['κρύ', 'πτων'],\n",
       " ['λευ', 'κώ', 'λε', 'νον'],\n",
       " ['Ἥ', 'ρην'],\n",
       " ['ἔ', 'στι'],\n",
       " ['δέ'],\n",
       " ['τις'],\n",
       " ['Νύ', 'ση'],\n",
       " ['ὕ', 'πα', 'τον'],\n",
       " ['ὄ', 'ρος'],\n",
       " ['ἀν', 'θέ', 'ον'],\n",
       " ['ὕ', 'λῃ'],\n",
       " ['τη', 'λοῦ'],\n",
       " ['Φοι', 'νί', 'κης'],\n",
       " ['σχε', 'δὸν'],\n",
       " ['Α', 'ἰ', 'γύ', 'πτοι', 'ο'],\n",
       " ['ῥο', 'ά', 'ων'],\n",
       " ['καί'],\n",
       " ['οἱ'],\n",
       " ['ἀ', 'να', 'στή', 'σου', 'σιν'],\n",
       " ['ἀ', 'γάλ', 'μα', 'τα'],\n",
       " ['πόλλ᾽'],\n",
       " ['ἐ', 'νὶ'],\n",
       " ['νη', 'οῖς'],\n",
       " ['ὣς'],\n",
       " ['δὲ'],\n",
       " ['τὰ'],\n",
       " ['μὲν'],\n",
       " ['τρί', 'α'],\n",
       " ['σοὶ'],\n",
       " ['πάν', 'τως'],\n",
       " ['τρι', 'ε', 'τη', 'ρί', 'σιν'],\n",
       " ['αἰ', 'εὶ'],\n",
       " ['ἄν', 'θρω', 'ποι'],\n",
       " ['ῥέ', 'ξου', 'σι'],\n",
       " ['τε', 'λη', 'έσ', 'σας'],\n",
       " ['ἑ', 'κα', 'τόμ', 'βας'],\n",
       " ['ἦ'],\n",
       " ['καὶ'],\n",
       " ['κυ', 'α', 'νέ', 'ῃ', 'σιν'],\n",
       " ['ἐπ᾽'],\n",
       " ['ὀ', 'φρύ', 'σι'],\n",
       " ['νεῦ', 'σε'],\n",
       " ['Κρο', 'νί', 'ων'],\n",
       " ['ἀμ', 'βρό', 'σι', 'αι'],\n",
       " ['δ᾽'],\n",
       " ['ἄ', 'ρα'],\n",
       " ['χαῖ', 'ται'],\n",
       " ['ἐ', 'περ', 'ρώ', 'σαν', 'το'],\n",
       " ['ἄ', 'να', 'κτος'],\n",
       " ['κρα', 'τὸς'],\n",
       " ['ἀπ᾽'],\n",
       " ['ἀ', 'θα', 'νά', 'τοι', 'ο'],\n",
       " ['μέ', 'γαν'],\n",
       " ['δ᾽'],\n",
       " ['ἐ', 'λέ', 'λι', 'ξεν'],\n",
       " ['Ὄ', 'λυμ', 'πον'],\n",
       " ['ὣς'],\n",
       " ['εἰ', 'πὼν'],\n",
       " ['ἐ', 'πέ', 'νευ', 'σε'],\n",
       " ['κα', 'ρή', 'α', 'τι'],\n",
       " ['μη', 'τί', 'ε', 'τα'],\n",
       " ['Ζεύς'],\n",
       " ['ἵ', 'ληθ᾽'],\n",
       " ['εἰ', 'ρα', 'φι', 'ῶ', 'τα'],\n",
       " ['γυ', 'ναι', 'μα', 'νές'],\n",
       " ['οἱ'],\n",
       " ['δέ'],\n",
       " ['σ᾽'],\n",
       " ['ἀ', 'οι', 'δοὶ'],\n",
       " ['ᾁ', 'δο', 'μεν'],\n",
       " ['ἀρ', 'χό', 'με', 'νοι'],\n",
       " ['λή', 'γον', 'τές'],\n",
       " ['τ᾽'],\n",
       " ['οὐ', 'δέ'],\n",
       " ['πῃ'],\n",
       " ['ἔ', 'στι'],\n",
       " ['σεῖ᾽'],\n",
       " ['ἐ', 'πι', 'λη', 'θο', 'μέ', 'νῳ'],\n",
       " ['ἱ', 'ε', 'ρῆς'],\n",
       " ['με', 'μνῆ', 'σθαι'],\n",
       " ['ἀ', 'οι', 'δῆς'],\n",
       " ['καὶ'],\n",
       " ['σὺ'],\n",
       " ['μὲν'],\n",
       " ['οὕ', 'τω'],\n",
       " ['χαῖ', 'ρε'],\n",
       " ['Δι', 'ώ', 'νυσ᾽'],\n",
       " ['εἰ', 'ρα', 'φι', 'ῶ', 'τα'],\n",
       " ['σὺν'],\n",
       " ['μη', 'τρὶ'],\n",
       " ['Σε', 'μέ', 'λῃ'],\n",
       " ['ἥν'],\n",
       " ['περ'],\n",
       " ['κα', 'λέ', 'ου', 'σι'],\n",
       " ['Θυ', 'ώ', 'νην']]"
      ]
     },
     "execution_count": 134,
     "metadata": {},
     "output_type": "execute_result"
    }
   ],
   "source": [
    "w=get('http://www.perseus.tufts.edu/hopper/text?doc=Perseus%3Atext%3A1999.01.0137%3Ahymn%3D1')\n",
    "tree=html.fromstring(w.text)\n",
    "words = tree.xpath('//a[@target=\"morph\"]/text()')\n",
    "[syllabify(word) for word in words]"
   ]
  },
  {
   "cell_type": "code",
   "execution_count": 135,
   "metadata": {
    "collapsed": false
   },
   "outputs": [],
   "source": [
    "soup = BeautifulSoup(w.text, \"lxml\")"
   ]
  },
  {
   "cell_type": "code",
   "execution_count": 140,
   "metadata": {
    "collapsed": false
   },
   "outputs": [],
   "source": [
    "text = {}\n",
    "for tag in soup.find_all('span'):\n",
    "    tag.replaceWith('')\n",
    "for tag in soup.find_all('h4'):\n",
    "    tag.replaceWith('')\n",
    "for tag in soup.find_all('p'):\n",
    "    tag.replaceWith('')\n",
    "for tag in soup.find_all('script'):\n",
    "    tag.replaceWith('')\n",
    "for i,line in enumerate(filter(lambda x: bool(x), soup.findAll('div', {'id': 'text_main'})[0].text.strip().split('\\n'))):\n",
    "    text[i] = line.strip().strip('... ')"
   ]
  },
  {
   "cell_type": "code",
   "execution_count": 222,
   "metadata": {
    "collapsed": false
   },
   "outputs": [
    {
     "data": {
      "text/plain": [
       "[['φάσ᾽'],\n",
       " ['οἳ'],\n",
       " ['δ᾽'],\n",
       " ['ἐν'],\n",
       " ['Νά', 'ξῳ'],\n",
       " ['δῖ', 'ον'],\n",
       " ['γέ', 'νος'],\n",
       " ['εἰ', 'ρα', 'φι', 'ῶ', 'τα']]"
      ]
     },
     "execution_count": 222,
     "metadata": {},
     "output_type": "execute_result"
    }
   ],
   "source": [
    "[syllabify(word) for word in text[1].replace(',','').split(' ')]"
   ]
  },
  {
   "cell_type": "code",
   "execution_count": 223,
   "metadata": {
    "collapsed": false
   },
   "outputs": [
    {
     "data": {
      "text/plain": [
       "[False]"
      ]
     },
     "execution_count": 223,
     "metadata": {},
     "output_type": "execute_result"
    }
   ],
   "source": [
    "[(accent(syl) in [ACUTE, CIRCUMFLEX, GRAVE]) for syl in ['σ᾽']]"
   ]
  },
  {
   "cell_type": "code",
   "execution_count": 225,
   "metadata": {
    "collapsed": false
   },
   "outputs": [
    {
     "data": {
      "text/plain": [
       "[[True],\n",
       " [True],\n",
       " [False],\n",
       " [False],\n",
       " [True, False],\n",
       " [True, False],\n",
       " [True, False],\n",
       " [False, False, False, True, False]]"
      ]
     },
     "execution_count": 225,
     "metadata": {},
     "output_type": "execute_result"
    }
   ],
   "source": [
    "[[accent(syl) in [ACUTE, CIRCUMFLEX, GRAVE] for syl in s] for s in Out[222]]"
   ]
  },
  {
   "cell_type": "code",
   "execution_count": 167,
   "metadata": {
    "collapsed": false
   },
   "outputs": [
    {
     "name": "stdout",
     "output_type": "stream",
     "text": [
      "1 loop, best of 3: 1.21 s per loop\n"
     ]
    }
   ],
   "source": [
    "%timeit BeautifulSoup(get('http://www.dwds.de/wb/Herkommen').text, \"lxml\").find('div', {'class': \"dwdswb-worttrennung\"}).text.split()[1].split('-')"
   ]
  },
  {
   "cell_type": "code",
   "execution_count": 201,
   "metadata": {
    "collapsed": false
   },
   "outputs": [
    {
     "data": {
      "text/plain": [
       "False"
      ]
     },
     "execution_count": 201,
     "metadata": {},
     "output_type": "execute_result"
    }
   ],
   "source": [
    "syllable_length('τοῦ')==SHORT"
   ]
  },
  {
   "cell_type": "code",
   "execution_count": null,
   "metadata": {
    "collapsed": true
   },
   "outputs": [],
   "source": []
  }
 ],
 "metadata": {
  "anaconda-cloud": {},
  "kernelspec": {
   "display_name": "Python [Root]",
   "language": "python",
   "name": "Python [Root]"
  },
  "language_info": {
   "codemirror_mode": {
    "name": "ipython",
    "version": 3
   },
   "file_extension": ".py",
   "mimetype": "text/x-python",
   "name": "python",
   "nbconvert_exporter": "python",
   "pygments_lexer": "ipython3",
   "version": "3.5.2"
  }
 },
 "nbformat": 4,
 "nbformat_minor": 0
}
